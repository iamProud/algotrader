{
 "cells": [
  {
   "cell_type": "markdown",
   "metadata": {},
   "source": [
    "# Performance Test"
   ]
  },
  {
   "cell_type": "code",
   "execution_count": null,
   "metadata": {},
   "outputs": [],
   "source": [
    "import pandas as pd\n",
    "import numpy as np"
   ]
  },
  {
   "cell_type": "code",
   "execution_count": null,
   "metadata": {},
   "outputs": [],
   "source": [
    "size = 1_000_000\n",
    "\n",
    "df = pd.DataFrame({\n",
    "    'buy_signal': np.random.randint(0, 2, size=size).astype(np.bool_),\n",
    "    'sell_signal': np.random.randint(0, 2, size=size).astype(np.bool_)\n",
    "})\n",
    "# Ensure exclusivity of signals in each row\n",
    "df['sell_signal'] = df['sell_signal'] & ~df['buy_signal']"
   ]
  },
  {
   "cell_type": "code",
   "execution_count": 3,
   "metadata": {},
   "outputs": [],
   "source": [
    "def is_position(buy, sell, in_position):\n",
    "    if buy:\n",
    "        return True\n",
    "    elif sell:\n",
    "        return False\n",
    "    else:\n",
    "        return in_position"
   ]
  },
  {
   "cell_type": "markdown",
   "metadata": {},
   "source": [
    "## Pandas iterrows()"
   ]
  },
  {
   "cell_type": "code",
   "execution_count": null,
   "metadata": {},
   "outputs": [],
   "source": [
    "%%timeit\n",
    "positions = []\n",
    "in_position = False\n",
    "\n",
    "for index, row in df.iterrows():\n",
    "    in_position = is_position(row['buy_signal'], row['sell_signal'], in_position)\n",
    "    positions.append(in_position)\n",
    "    \n",
    "df['in_position'] = positions"
   ]
  },
  {
   "cell_type": "markdown",
   "metadata": {},
   "source": [
    "## Pandas apply()"
   ]
  },
  {
   "cell_type": "code",
   "execution_count": null,
   "metadata": {},
   "outputs": [],
   "source": [
    "%%timeit\n",
    "in_position = False\n",
    "positions = df.apply(lambda row: is_position(row['buy_signal'], row['sell_signal'], in_position), axis=1)\n",
    "\n",
    "df['in_position'] = positions"
   ]
  },
  {
   "cell_type": "markdown",
   "metadata": {},
   "source": [
    "## numpy and ffill()"
   ]
  },
  {
   "cell_type": "code",
   "execution_count": null,
   "metadata": {},
   "outputs": [],
   "source": [
    "%%timeit\n",
    "signals = np.where(df['buy_signal'] == True, 1, \n",
    "                   np.where(df['sell_signal'] == True, -1, np.nan))\n",
    "\n",
    "ffill_signals = pd.Series(signals).ffill().fillna(-1).astype(int)\n",
    "positions = (ffill_signals + 1) // 2\n",
    "\n",
    "df['in_position'] = positions.astype(np.bool_)"
   ]
  }
 ],
 "metadata": {
  "kernelspec": {
   "display_name": ".venv",
   "language": "python",
   "name": "python3"
  },
  "language_info": {
   "codemirror_mode": {
    "name": "ipython",
    "version": 3
   },
   "file_extension": ".py",
   "mimetype": "text/x-python",
   "name": "python",
   "nbconvert_exporter": "python",
   "pygments_lexer": "ipython3",
   "version": "3.11.4"
  }
 },
 "nbformat": 4,
 "nbformat_minor": 2
}
