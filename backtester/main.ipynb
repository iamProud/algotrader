{
 "cells": [
  {
   "cell_type": "code",
   "execution_count": 4,
   "metadata": {},
   "outputs": [
    {
     "data": {
      "text/html": [
       "<div>\n",
       "<style scoped>\n",
       "    .dataframe tbody tr th:only-of-type {\n",
       "        vertical-align: middle;\n",
       "    }\n",
       "\n",
       "    .dataframe tbody tr th {\n",
       "        vertical-align: top;\n",
       "    }\n",
       "\n",
       "    .dataframe thead tr th {\n",
       "        text-align: left;\n",
       "    }\n",
       "\n",
       "    .dataframe thead tr:last-of-type th {\n",
       "        text-align: right;\n",
       "    }\n",
       "</style>\n",
       "<table border=\"1\" class=\"dataframe\">\n",
       "  <thead>\n",
       "    <tr>\n",
       "      <th></th>\n",
       "      <th>open</th>\n",
       "      <th>high</th>\n",
       "      <th>low</th>\n",
       "      <th>close</th>\n",
       "      <th>volume</th>\n",
       "    </tr>\n",
       "    <tr>\n",
       "      <th></th>\n",
       "      <th>EURUSD</th>\n",
       "      <th>EURUSD</th>\n",
       "      <th>EURUSD</th>\n",
       "      <th>EURUSD</th>\n",
       "      <th>EURUSD</th>\n",
       "    </tr>\n",
       "    <tr>\n",
       "      <th>timestamp</th>\n",
       "      <th></th>\n",
       "      <th></th>\n",
       "      <th></th>\n",
       "      <th></th>\n",
       "      <th></th>\n",
       "    </tr>\n",
       "  </thead>\n",
       "  <tbody>\n",
       "    <tr>\n",
       "      <th>2023-12-26</th>\n",
       "      <td>1.10230</td>\n",
       "      <td>1.10451</td>\n",
       "      <td>1.10086</td>\n",
       "      <td>1.10422</td>\n",
       "      <td>0.0</td>\n",
       "    </tr>\n",
       "    <tr>\n",
       "      <th>2023-12-27</th>\n",
       "      <td>1.10410</td>\n",
       "      <td>1.11229</td>\n",
       "      <td>1.10285</td>\n",
       "      <td>1.11062</td>\n",
       "      <td>0.0</td>\n",
       "    </tr>\n",
       "    <tr>\n",
       "      <th>2023-12-28</th>\n",
       "      <td>1.11028</td>\n",
       "      <td>1.11395</td>\n",
       "      <td>1.10551</td>\n",
       "      <td>1.10619</td>\n",
       "      <td>0.0</td>\n",
       "    </tr>\n",
       "    <tr>\n",
       "      <th>2023-12-29</th>\n",
       "      <td>1.10610</td>\n",
       "      <td>1.10844</td>\n",
       "      <td>1.10340</td>\n",
       "      <td>1.10343</td>\n",
       "      <td>0.0</td>\n",
       "    </tr>\n",
       "    <tr>\n",
       "      <th>2024-01-02</th>\n",
       "      <td>1.10429</td>\n",
       "      <td>1.10442</td>\n",
       "      <td>1.09382</td>\n",
       "      <td>1.09410</td>\n",
       "      <td>0.0</td>\n",
       "    </tr>\n",
       "    <tr>\n",
       "      <th>...</th>\n",
       "      <td>...</td>\n",
       "      <td>...</td>\n",
       "      <td>...</td>\n",
       "      <td>...</td>\n",
       "      <td>...</td>\n",
       "    </tr>\n",
       "    <tr>\n",
       "      <th>2024-05-06</th>\n",
       "      <td>1.07601</td>\n",
       "      <td>1.07908</td>\n",
       "      <td>1.07553</td>\n",
       "      <td>1.07700</td>\n",
       "      <td>0.0</td>\n",
       "    </tr>\n",
       "    <tr>\n",
       "      <th>2024-05-07</th>\n",
       "      <td>1.07651</td>\n",
       "      <td>1.07874</td>\n",
       "      <td>1.07478</td>\n",
       "      <td>1.07500</td>\n",
       "      <td>38.0</td>\n",
       "    </tr>\n",
       "    <tr>\n",
       "      <th>2024-05-08</th>\n",
       "      <td>1.07498</td>\n",
       "      <td>1.07574</td>\n",
       "      <td>1.07349</td>\n",
       "      <td>1.07468</td>\n",
       "      <td>251.0</td>\n",
       "    </tr>\n",
       "    <tr>\n",
       "      <th>2024-05-09</th>\n",
       "      <td>1.07469</td>\n",
       "      <td>1.07858</td>\n",
       "      <td>1.07239</td>\n",
       "      <td>1.07818</td>\n",
       "      <td>159348.0</td>\n",
       "    </tr>\n",
       "    <tr>\n",
       "      <th>2024-05-10</th>\n",
       "      <td>1.07817</td>\n",
       "      <td>1.07901</td>\n",
       "      <td>1.07603</td>\n",
       "      <td>1.07696</td>\n",
       "      <td>137157.0</td>\n",
       "    </tr>\n",
       "  </tbody>\n",
       "</table>\n",
       "<p>99 rows × 5 columns</p>\n",
       "</div>"
      ],
      "text/plain": [
       "               open     high      low    close    volume\n",
       "             EURUSD   EURUSD   EURUSD   EURUSD    EURUSD\n",
       "timestamp                                               \n",
       "2023-12-26  1.10230  1.10451  1.10086  1.10422       0.0\n",
       "2023-12-27  1.10410  1.11229  1.10285  1.11062       0.0\n",
       "2023-12-28  1.11028  1.11395  1.10551  1.10619       0.0\n",
       "2023-12-29  1.10610  1.10844  1.10340  1.10343       0.0\n",
       "2024-01-02  1.10429  1.10442  1.09382  1.09410       0.0\n",
       "...             ...      ...      ...      ...       ...\n",
       "2024-05-06  1.07601  1.07908  1.07553  1.07700       0.0\n",
       "2024-05-07  1.07651  1.07874  1.07478  1.07500      38.0\n",
       "2024-05-08  1.07498  1.07574  1.07349  1.07468     251.0\n",
       "2024-05-09  1.07469  1.07858  1.07239  1.07818  159348.0\n",
       "2024-05-10  1.07817  1.07901  1.07603  1.07696  137157.0\n",
       "\n",
       "[99 rows x 5 columns]"
      ]
     },
     "execution_count": 4,
     "metadata": {},
     "output_type": "execute_result"
    }
   ],
   "source": [
    "import numpy as np\n",
    "import pandas as pd\n",
    "from datetime import datetime\n",
    "import json\n",
    "\n",
    "import data as Data\n",
    "from indicators import *\n",
    "import signals as Signal\n",
    "from portfolio import Portfolio\n",
    "\n",
    "data = Data.get_candles('db', [1], 1440)\n",
    "data"
   ]
  },
  {
   "cell_type": "code",
   "execution_count": 6,
   "metadata": {},
   "outputs": [
    {
     "data": {
      "text/plain": [
       "'[{\"timestamp\": \"2023-12-26 00:00:00\", \"EURUSD\": NaN}, {\"timestamp\": \"2023-12-27 00:00:00\", \"EURUSD\": NaN}, {\"timestamp\": \"2023-12-28 00:00:00\", \"EURUSD\": NaN}, {\"timestamp\": \"2023-12-29 00:00:00\", \"EURUSD\": NaN}, {\"timestamp\": \"2024-01-02 00:00:00\", \"EURUSD\": NaN}, {\"timestamp\": \"2024-01-03 00:00:00\", \"EURUSD\": NaN}, {\"timestamp\": \"2024-01-04 00:00:00\", \"EURUSD\": NaN}, {\"timestamp\": \"2024-01-05 00:00:00\", \"EURUSD\": NaN}, {\"timestamp\": \"2024-01-08 00:00:00\", \"EURUSD\": NaN}, {\"timestamp\": \"2024-01-09 00:00:00\", \"EURUSD\": 1.0987449999999999}, {\"timestamp\": \"2024-01-10 00:00:00\", \"EURUSD\": 1.098043}, {\"timestamp\": \"2024-01-11 00:00:00\", \"EURUSD\": 1.096712}, {\"timestamp\": \"2024-01-12 00:00:00\", \"EURUSD\": 1.095589}, {\"timestamp\": \"2024-01-15 00:00:00\", \"EURUSD\": 1.094746}, {\"timestamp\": \"2024-01-16 00:00:00\", \"EURUSD\": 1.0940869999999998}, {\"timestamp\": \"2024-01-17 00:00:00\", \"EURUSD\": 1.093684}, {\"timestamp\": \"2024-01-18 00:00:00\", \"EURUSD\": 1.092981}, {\"timestamp\": \"2024-01-19 00:00:00\", \"EURUSD\": 1.092548}, {\"timestamp\": \"2024-01-22 00:00:00\", \"EURUSD\": 1.091873}, {\"timestamp\": \"2024-01-23 00:00:00\", \"EURUSD\": 1.091097}, {\"timestamp\": \"2024-01-24 00:00:00\", \"EURUSD\": 1.090221}, {\"timestamp\": \"2024-01-25 00:00:00\", \"EURUSD\": 1.0889479999999998}, {\"timestamp\": \"2024-01-26 00:00:00\", \"EURUSD\": 1.08798}, {\"timestamp\": \"2024-01-29 00:00:00\", \"EURUSD\": 1.0868120000000001}, {\"timestamp\": \"2024-01-30 00:00:00\", \"EURUSD\": 1.086515}, {\"timestamp\": \"2024-01-31 00:00:00\", \"EURUSD\": 1.085872}, {\"timestamp\": \"2024-02-01 00:00:00\", \"EURUSD\": 1.0858400000000001}, {\"timestamp\": \"2024-02-02 00:00:00\", \"EURUSD\": 1.084754}, {\"timestamp\": \"2024-02-05 00:00:00\", \"EURUSD\": 1.083355}, {\"timestamp\": \"2024-02-06 00:00:00\", \"EURUSD\": 1.08236}, {\"timestamp\": \"2024-02-07 00:00:00\", \"EURUSD\": 1.081246}, {\"timestamp\": \"2024-02-08 00:00:00\", \"EURUSD\": 1.0805669999999998}, {\"timestamp\": \"2024-02-09 00:00:00\", \"EURUSD\": 1.079885}, {\"timestamp\": \"2024-02-12 00:00:00\", \"EURUSD\": 1.07927}, {\"timestamp\": \"2024-02-13 00:00:00\", \"EURUSD\": 1.077905}, {\"timestamp\": \"2024-02-14 00:00:00\", \"EURUSD\": 1.0770060000000001}, {\"timestamp\": \"2024-02-15 00:00:00\", \"EURUSD\": 1.07601}, {\"timestamp\": \"2024-02-16 00:00:00\", \"EURUSD\": 1.0758839999999998}, {\"timestamp\": \"2024-02-19 00:00:00\", \"EURUSD\": 1.076235}, {\"timestamp\": \"2024-02-20 00:00:00\", \"EURUSD\": 1.0767719999999998}, {\"timestamp\": \"2024-02-21 00:00:00\", \"EURUSD\": 1.077238}, {\"timestamp\": \"2024-02-22 00:00:00\", \"EURUSD\": 1.077688}, {\"timestamp\": \"2024-02-23 00:00:00\", \"EURUSD\": 1.0780480000000001}, {\"timestamp\": \"2024-02-26 00:00:00\", \"EURUSD\": 1.078843}, {\"timestamp\": \"2024-02-27 00:00:00\", \"EURUSD\": 1.080201}, {\"timestamp\": \"2024-02-28 00:00:00\", \"EURUSD\": 1.0813089999999999}, {\"timestamp\": \"2024-02-29 00:00:00\", \"EURUSD\": 1.0816329999999998}, {\"timestamp\": \"2024-03-01 00:00:00\", \"EURUSD\": 1.082267}, {\"timestamp\": \"2024-03-04 00:00:00\", \"EURUSD\": 1.08305}, {\"timestamp\": \"2024-03-05 00:00:00\", \"EURUSD\": 1.0835380000000001}, {\"timestamp\": \"2024-03-06 00:00:00\", \"EURUSD\": 1.08433}, {\"timestamp\": \"2024-03-07 00:00:00\", \"EURUSD\": 1.085582}, {\"timestamp\": \"2024-03-08 00:00:00\", \"EURUSD\": 1.086771}, {\"timestamp\": \"2024-03-11 00:00:00\", \"EURUSD\": 1.087511}, {\"timestamp\": \"2024-03-12 00:00:00\", \"EURUSD\": 1.088322}, {\"timestamp\": \"2024-03-13 00:00:00\", \"EURUSD\": 1.089418}, {\"timestamp\": \"2024-03-14 00:00:00\", \"EURUSD\": 1.090206}, {\"timestamp\": \"2024-03-15 00:00:00\", \"EURUSD\": 1.090695}, {\"timestamp\": \"2024-03-18 00:00:00\", \"EURUSD\": 1.090857}, {\"timestamp\": \"2024-03-19 00:00:00\", \"EURUSD\": 1.090949}, {\"timestamp\": \"2024-03-20 00:00:00\", \"EURUSD\": 1.09118}, {\"timestamp\": \"2024-03-21 00:00:00\", \"EURUSD\": 1.090295}, {\"timestamp\": \"2024-03-22 00:00:00\", \"EURUSD\": 1.088986}, {\"timestamp\": \"2024-03-25 00:00:00\", \"EURUSD\": 1.088105}, {\"timestamp\": \"2024-03-26 00:00:00\", \"EURUSD\": 1.087158}, {\"timestamp\": \"2024-03-27 00:00:00\", \"EURUSD\": 1.085957}, {\"timestamp\": \"2024-03-28 00:00:00\", \"EURUSD\": 1.084995}, {\"timestamp\": \"2024-03-29 00:00:00\", \"EURUSD\": 1.084006}, {\"timestamp\": \"2024-04-01 00:00:00\", \"EURUSD\": 1.082714}, {\"timestamp\": \"2024-04-02 00:00:00\", \"EURUSD\": 1.081748}, {\"timestamp\": \"2024-04-03 00:00:00\", \"EURUSD\": 1.080909}, {\"timestamp\": \"2024-04-04 00:00:00\", \"EURUSD\": 1.080677}, {\"timestamp\": \"2024-04-05 00:00:00\", \"EURUSD\": 1.080962}, {\"timestamp\": \"2024-04-07 00:00:00\", \"EURUSD\": 1.080889}, {\"timestamp\": \"2024-04-08 00:00:00\", \"EURUSD\": 1.081198}, {\"timestamp\": \"2024-04-09 00:00:00\", \"EURUSD\": 1.081508}, {\"timestamp\": \"2024-04-10 00:00:00\", \"EURUSD\": 1.0810460000000002}, {\"timestamp\": \"2024-04-11 00:00:00\", \"EURUSD\": 1.080409}, {\"timestamp\": \"2024-04-12 00:00:00\", \"EURUSD\": 1.079396}, {\"timestamp\": \"2024-04-15 00:00:00\", \"EURUSD\": 1.077947}, {\"timestamp\": \"2024-04-16 00:00:00\", \"EURUSD\": 1.075752}, {\"timestamp\": \"2024-04-17 00:00:00\", \"EURUSD\": 1.0741159999999998}, {\"timestamp\": \"2024-04-18 00:00:00\", \"EURUSD\": 1.072181}, {\"timestamp\": \"2024-04-19 00:00:00\", \"EURUSD\": 1.0704550000000002}, {\"timestamp\": \"2024-04-22 00:00:00\", \"EURUSD\": 1.068372}, {\"timestamp\": \"2024-04-23 00:00:00\", \"EURUSD\": 1.066807}, {\"timestamp\": \"2024-04-24 00:00:00\", \"EURUSD\": 1.066386}, {\"timestamp\": \"2024-04-25 00:00:00\", \"EURUSD\": 1.066422}, {\"timestamp\": \"2024-04-26 00:00:00\", \"EURUSD\": 1.066949}, {\"timestamp\": \"2024-04-29 00:00:00\", \"EURUSD\": 1.067904}, {\"timestamp\": \"2024-04-30 00:00:00\", \"EURUSD\": 1.0683760000000002}, {\"timestamp\": \"2024-05-01 00:00:00\", \"EURUSD\": 1.0687840000000002}, {\"timestamp\": \"2024-05-02 00:00:00\", \"EURUSD\": 1.069595}, {\"timestamp\": \"2024-05-03 00:00:00\", \"EURUSD\": 1.070655}, {\"timestamp\": \"2024-05-06 00:00:00\", \"EURUSD\": 1.071818}, {\"timestamp\": \"2024-05-07 00:00:00\", \"EURUSD\": 1.0722960000000001}, {\"timestamp\": \"2024-05-08 00:00:00\", \"EURUSD\": 1.0727740000000001}, {\"timestamp\": \"2024-05-09 00:00:00\", \"EURUSD\": 1.073296}, {\"timestamp\": \"2024-05-10 00:00:00\", \"EURUSD\": 1.074051}]'"
      ]
     },
     "execution_count": 6,
     "metadata": {},
     "output_type": "execute_result"
    }
   ],
   "source": [
    "sma = SMA(data, window=10, source='close').run()\n",
    "sma_reset = sma.reset_index()\n",
    "\n",
    "# Convert the timestamp column to string (ISO 8601 format)\n",
    "sma_reset['timestamp'] = sma_reset['timestamp'].dt.strftime('%Y-%m-%d %H:%M:%S')\n",
    "\n",
    "# Now, convert the DataFrame to a list of dictionaries (JSON serializable)\n",
    "x = sma_reset.to_dict(orient=\"records\")\n",
    "\n",
    "# Serialize the data to JSON (with NaN values as null)\n",
    "j = json.dumps(x, allow_nan=True)\n",
    "j"
   ]
  },
  {
   "cell_type": "code",
   "execution_count": null,
   "metadata": {},
   "outputs": [],
   "source": [
    "close_above_sma = Signal.above(data['close'], sma['SMA_20'])\n",
    "crossover = Signal.crossover(sma['SMA_10'], sma['SMA_20'])\n",
    "\n",
    "buy_signals = crossover & close_above_sma\n",
    "buy_signals"
   ]
  },
  {
   "cell_type": "code",
   "execution_count": null,
   "metadata": {},
   "outputs": [],
   "source": [
    "crossunder = Signal.crossunder(sma['SMA_10'], sma['SMA_20'])\n",
    "\n",
    "sell_signals = crossunder\n",
    "sell_signals"
   ]
  },
  {
   "cell_type": "code",
   "execution_count": null,
   "metadata": {},
   "outputs": [],
   "source": [
    "pf = Portfolio.from_signals(data, buy_signals, sell_signals)\n",
    "pf.get_stats()"
   ]
  },
  {
   "cell_type": "markdown",
   "metadata": {},
   "source": [
    "# MAIN TEST"
   ]
  },
  {
   "cell_type": "code",
   "execution_count": null,
   "metadata": {},
   "outputs": [],
   "source": [
    "import asyncio\n",
    "import websockets\n",
    "import json\n",
    "import threading"
   ]
  },
  {
   "cell_type": "code",
   "execution_count": null,
   "metadata": {},
   "outputs": [],
   "source": [
    "async def on_message(message):\n",
    "    print(f\"Received: {message}\")\n",
    "\n",
    "async def websocket_client():\n",
    "    uri = \"ws://172.21.0.5:8765\"\n",
    "    print('connect')\n",
    "    # Connect to the server\n",
    "    async with websockets.connect(uri) as websocket:\n",
    "        print(\"connected\")\n",
    "        # Send a message\n",
    "        message = {\n",
    "            'type': 'Login',\n",
    "            'name': 'Backtester'\n",
    "        }\n",
    "        message = json.dumps(message)\n",
    "        await websocket.send(message)\n",
    "        print(f\"Sent: {message}\")\n",
    "\n",
    "        # Receive messages\n",
    "        async for message in websocket:\n",
    "            await on_message(message)\n",
    "\n",
    "def run_server_in_thread():\n",
    "    loop = asyncio.new_event_loop()\n",
    "    asyncio.set_event_loop(loop)\n",
    "    loop.run_until_complete(websocket_client())"
   ]
  },
  {
   "cell_type": "code",
   "execution_count": null,
   "metadata": {},
   "outputs": [],
   "source": [
    "client_thread = threading.Thread(target=run_server_in_thread)\n",
    "client_thread.start()"
   ]
  },
  {
   "cell_type": "code",
   "execution_count": null,
   "metadata": {},
   "outputs": [],
   "source": []
  }
 ],
 "metadata": {
  "kernelspec": {
   "display_name": ".venv",
   "language": "python",
   "name": "python3"
  },
  "language_info": {
   "codemirror_mode": {
    "name": "ipython",
    "version": 3
   },
   "file_extension": ".py",
   "mimetype": "text/x-python",
   "name": "python",
   "nbconvert_exporter": "python",
   "pygments_lexer": "ipython3",
   "version": "3.11.4"
  }
 },
 "nbformat": 4,
 "nbformat_minor": 2
}
